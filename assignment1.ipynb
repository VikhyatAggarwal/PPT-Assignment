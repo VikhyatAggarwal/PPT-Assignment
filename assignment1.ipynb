{
 "cells": [
  {
   "cell_type": "code",
   "execution_count": 2,
   "id": "547abd9f-71e7-4525-b20b-2ecf1959e00d",
   "metadata": {},
   "outputs": [
    {
     "name": "stdout",
     "output_type": "stream",
     "text": [
      "[0, 1]\n"
     ]
    }
   ],
   "source": [
    "def twoSum(nums, target):\n",
    "    # Create a list of tuples (number, index) to store the original indices\n",
    "    nums_with_indices = [(nums[i], i) for i in range(len(nums))]\n",
    "\n",
    "    # Sort the list of tuples based on the numbers\n",
    "    nums_with_indices.sort()\n",
    "\n",
    "    # Initialize left and right pointers\n",
    "    left, right = 0, len(nums) - 1\n",
    "\n",
    "    while left < right:\n",
    "        current_sum = nums_with_indices[left][0] + nums_with_indices[right][0]\n",
    "        if current_sum == target:\n",
    "            return [nums_with_indices[left][1], nums_with_indices[right][1]]\n",
    "        elif current_sum < target:\n",
    "            left += 1\n",
    "        else:\n",
    "            right -= 1\n",
    "\n",
    "    # No pair found, return an empty array\n",
    "    return []\n",
    "\n",
    "#calling Fuction\n",
    "nums = [2, 7, 11, 15]\n",
    "target = 9\n",
    "print(twoSum(nums, target))\n"
   ]
  },
  {
   "cell_type": "code",
   "execution_count": 6,
   "id": "4bbc03a4-da87-4eec-a958-1320aee6cf60",
   "metadata": {},
   "outputs": [
    {
     "name": "stdout",
     "output_type": "stream",
     "text": [
      "2\n"
     ]
    }
   ],
   "source": [
    "nums = [3,2,2,3]\n",
    "val = 3\n",
    "\n",
    "def removeElement(nums, val):\n",
    "    left = 0\n",
    "    right = len(nums) - 1\n",
    "\n",
    "    while left <= right:\n",
    "        if nums[left] == val:\n",
    "            nums[left], nums[right] = nums[right], nums[left]\n",
    "            right -= 1\n",
    "        else:\n",
    "            left += 1\n",
    "\n",
    "    return left\n",
    "#Calling Fuction\n",
    "result = removeElement(nums, val)\n",
    "print(result)"
   ]
  },
  {
   "cell_type": "code",
   "execution_count": 9,
   "id": "8bfc8c41-060c-4295-8e27-7b5dafd19fc0",
   "metadata": {},
   "outputs": [
    {
     "name": "stdout",
     "output_type": "stream",
     "text": [
      "2\n"
     ]
    }
   ],
   "source": [
    "def searchInsert(nums, target):\n",
    "    low, high = 0, len(nums)\n",
    "    \n",
    "    while low < high:\n",
    "        mid = (low + high) // 2\n",
    "        \n",
    "        if nums[mid] == target:\n",
    "            return mid\n",
    "        \n",
    "        if nums[mid] < target:\n",
    "            low = mid + 1\n",
    "        else:\n",
    "            high = mid\n",
    "    \n",
    "    return low\n",
    "#calling a fuction\n",
    "nums=[1,3,5,6]\n",
    "target=5\n",
    "print(searchInsert(nums,target))"
   ]
  },
  {
   "cell_type": "code",
   "execution_count": 11,
   "id": "979e683c-7d06-452b-86e8-c095ffe9ef9a",
   "metadata": {},
   "outputs": [
    {
     "name": "stdout",
     "output_type": "stream",
     "text": [
      "[1, 2, 4]\n"
     ]
    }
   ],
   "source": [
    "def plusOne(digits):\n",
    "    carry = 1\n",
    "    n = len(digits)\n",
    "    \n",
    "    for i in range(n - 1, -1, -1):\n",
    "        digits[i] += carry\n",
    "        if digits[i] < 10:\n",
    "            carry = 0\n",
    "            break\n",
    "        digits[i] = 0\n",
    "\n",
    "    if carry == 1:\n",
    "        digits.insert(0, 1)\n",
    "\n",
    "    return digits\n",
    "#calling fuc.\n",
    "digits = [1, 2, 3]\n",
    "result = plusOne(digits)\n",
    "print(result)"
   ]
  },
  {
   "cell_type": "code",
   "execution_count": 13,
   "id": "de901b91-d073-4438-abe1-14904361de3a",
   "metadata": {},
   "outputs": [
    {
     "name": "stdout",
     "output_type": "stream",
     "text": [
      "[1, 2, 2, 3, 5, 6]\n"
     ]
    }
   ],
   "source": [
    "def merge(nums1, m, nums2, n):\n",
    "    ptr1 = m - 1\n",
    "    ptr2 = n - 1\n",
    "    ptr = m + n - 1\n",
    "\n",
    "    while ptr1 >= 0 and ptr2 >= 0:\n",
    "        if nums1[ptr1] > nums2[ptr2]:\n",
    "            nums1[ptr] = nums1[ptr1]\n",
    "            ptr1 -= 1\n",
    "        else:\n",
    "            nums1[ptr] = nums2[ptr2]\n",
    "            ptr2 -= 1\n",
    "        ptr -= 1\n",
    "\n",
    "    # Copy remaining elements from nums2 to nums1\n",
    "    while ptr2 >= 0:\n",
    "        nums1[ptr] = nums2[ptr2]\n",
    "        ptr2 -= 1\n",
    "        ptr -= 1\n",
    "\n",
    "# Example usage\n",
    "# calling fuc.\n",
    "nums1 = [1, 2, 3, 0, 0, 0]\n",
    "m = 3\n",
    "nums2 = [2, 5, 6]\n",
    "n = 3\n",
    "\n",
    "merge(nums1, m, nums2, n)\n",
    "print(nums1)\n"
   ]
  },
  {
   "cell_type": "code",
   "execution_count": 15,
   "id": "39945aea-35ad-4c0d-9a6d-46235c434473",
   "metadata": {},
   "outputs": [
    {
     "name": "stdout",
     "output_type": "stream",
     "text": [
      "True\n"
     ]
    }
   ],
   "source": [
    "def containsDuplicate(nums):\n",
    "    num_set = set()\n",
    "\n",
    "    for num in nums:\n",
    "        if num in num_set:\n",
    "            return True\n",
    "        num_set.add(num)\n",
    "\n",
    "    return False\n",
    "\n",
    "# Example usage\n",
    "#calling fuc...\n",
    "nums = [1, 2, 3, 1]\n",
    "print(containsDuplicate(nums))\n"
   ]
  },
  {
   "cell_type": "code",
   "execution_count": 17,
   "id": "d71d7b34-0adf-4d71-b981-6cacc54e0aa0",
   "metadata": {},
   "outputs": [
    {
     "name": "stdout",
     "output_type": "stream",
     "text": [
      "[1, 3, 12, 0, 0]\n"
     ]
    }
   ],
   "source": [
    "def moveZeroes(nums):\n",
    "    left = 0\n",
    "    right = 0\n",
    "\n",
    "    while right < len(nums):\n",
    "        if nums[right] != 0:\n",
    "            nums[left], nums[right] = nums[right], nums[left]\n",
    "            left += 1\n",
    "        right += 1\n",
    "\n",
    "    while left < len(nums):\n",
    "        nums[left] = 0\n",
    "        left += 1\n",
    "\n",
    "# Example usage\n",
    "#calling fuc.\n",
    "nums = [0, 1, 0, 3, 12]\n",
    "moveZeroes(nums)\n",
    "print(nums)"
   ]
  },
  {
   "cell_type": "code",
   "execution_count": 18,
   "id": "7e40a27e-0331-43fe-aa25-5a595ec6f087",
   "metadata": {},
   "outputs": [
    {
     "name": "stdout",
     "output_type": "stream",
     "text": [
      "[2, 1]\n"
     ]
    }
   ],
   "source": [
    "def findErrorNums(nums):\n",
    "    num_set = set()\n",
    "    duplicate = 0\n",
    "    total = 0\n",
    "\n",
    "    for num in nums:\n",
    "        if num in num_set:\n",
    "            duplicate = num\n",
    "        num_set.add(num)\n",
    "        total += num\n",
    "\n",
    "    n = len(nums)\n",
    "    missing = n * (n + 1) // 2 - total\n",
    "\n",
    "    return [duplicate, missing]\n",
    "\n",
    "# Example usage\n",
    "#calling fuc.\n",
    "nums = [1, 2, 2, 4]\n",
    "result = findErrorNums(nums)\n",
    "print(result) \n"
   ]
  }
 ],
 "metadata": {
  "kernelspec": {
   "display_name": "Python 3 (ipykernel)",
   "language": "python",
   "name": "python3"
  },
  "language_info": {
   "codemirror_mode": {
    "name": "ipython",
    "version": 3
   },
   "file_extension": ".py",
   "mimetype": "text/x-python",
   "name": "python",
   "nbconvert_exporter": "python",
   "pygments_lexer": "ipython3",
   "version": "3.10.8"
  }
 },
 "nbformat": 4,
 "nbformat_minor": 5
}
