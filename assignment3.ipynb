{
 "cells": [
  {
   "cell_type": "code",
   "execution_count": 1,
   "id": "3914ecde-5985-4116-a6d2-dd20fc067aab",
   "metadata": {},
   "outputs": [
    {
     "name": "stdout",
     "output_type": "stream",
     "text": [
      "2\n"
     ]
    }
   ],
   "source": [
    "def threeSumClosest(nums, target):\n",
    "    nums.sort()\n",
    "    n = len(nums)\n",
    "    closestSum = float('inf')\n",
    "\n",
    "    for i in range(n - 2):\n",
    "        left = i + 1\n",
    "        right = n - 1\n",
    "\n",
    "        while left < right:\n",
    "            currentSum = nums[i] + nums[left] + nums[right]\n",
    "\n",
    "            if abs(currentSum - target) < abs(closestSum - target):\n",
    "                closestSum = currentSum\n",
    "\n",
    "            if currentSum < target:\n",
    "                left += 1\n",
    "            elif currentSum > target:\n",
    "                right -= 1\n",
    "            else:\n",
    "                return currentSum  # Exact match found\n",
    "\n",
    "    return closestSum\n",
    "\n",
    "# Example usage:\n",
    "nums = [-1, 2, 1, -4]\n",
    "target = 1\n",
    "\n",
    "closestSum = threeSumClosest(nums, target)\n",
    "print(closestSum)\n"
   ]
  },
  {
   "cell_type": "code",
   "execution_count": 2,
   "id": "e83ddf2b-e2b7-4658-b394-2745820f1e99",
   "metadata": {},
   "outputs": [
    {
     "name": "stdout",
     "output_type": "stream",
     "text": [
      "[[-2, -1, 1, 2], [-2, 0, 0, 2], [-1, 0, 0, 1]]\n"
     ]
    }
   ],
   "source": [
    "def fourSum(nums, target):\n",
    "    nums.sort()\n",
    "    n = len(nums)\n",
    "    result = []\n",
    "\n",
    "    for a in range(n - 3):\n",
    "        if a > 0 and nums[a] == nums[a - 1]:\n",
    "            continue\n",
    "\n",
    "        for b in range(a + 1, n - 2):\n",
    "            if b > a + 1 and nums[b] == nums[b - 1]:\n",
    "                continue\n",
    "\n",
    "            left = b + 1\n",
    "            right = n - 1\n",
    "\n",
    "            while left < right:\n",
    "                current_sum = nums[a] + nums[b] + nums[left] + nums[right]\n",
    "\n",
    "                if current_sum == target:\n",
    "                    result.append([nums[a], nums[b], nums[left], nums[right]])\n",
    "                    left += 1\n",
    "                    right -= 1\n",
    "\n",
    "                    while left < right and nums[left] == nums[left - 1]:\n",
    "                        left += 1\n",
    "                    while left < right and nums[right] == nums[right + 1]:\n",
    "                        right -= 1\n",
    "\n",
    "                elif current_sum < target:\n",
    "                    left += 1\n",
    "                else:\n",
    "                    right -= 1\n",
    "\n",
    "    return result\n",
    "#fun. calling.\n",
    "nums = [1, 0, -1, 0, -2, 2]\n",
    "target = 0\n",
    "result = fourSum(nums, target)\n",
    "print(result)"
   ]
  },
  {
   "cell_type": "code",
   "execution_count": 3,
   "id": "323c65d6-29a5-4c15-ab1f-4b3d66d94a0c",
   "metadata": {},
   "outputs": [
    {
     "name": "stdout",
     "output_type": "stream",
     "text": [
      "[1, 3, 2]\n"
     ]
    }
   ],
   "source": [
    "def nextPermutation(nums):\n",
    "    n = len(nums)\n",
    "    i = n - 2\n",
    "\n",
    "    while i >= 0 and nums[i] >= nums[i + 1]:\n",
    "        i -= 1\n",
    "\n",
    "    if i >= 0:\n",
    "        j = n - 1\n",
    "        while j >= 0 and nums[i] >= nums[j]:\n",
    "            j -= 1\n",
    "        nums[i], nums[j] = nums[j], nums[i]\n",
    "\n",
    "    left = i + 1\n",
    "    right = n - 1\n",
    "\n",
    "    while left < right:\n",
    "        nums[left], nums[right] = nums[right], nums[left]\n",
    "        left += 1\n",
    "        right -= 1\n",
    "\n",
    "    return nums\n",
    "    \n",
    "    #fuc. calling\n",
    "nums = [1, 2, 3]\n",
    "result = nextPermutation(nums)\n",
    "print(result)"
   ]
  },
  {
   "cell_type": "code",
   "execution_count": 4,
   "id": "9c61368c-df79-42eb-b866-67b76007ceaf",
   "metadata": {},
   "outputs": [
    {
     "name": "stdout",
     "output_type": "stream",
     "text": [
      "2\n"
     ]
    }
   ],
   "source": [
    "def searchInsert(nums, target):\n",
    "    left = 0\n",
    "    right = len(nums) - 1\n",
    "\n",
    "    while left <= right:\n",
    "        middle = (left + right) // 2\n",
    "\n",
    "        if nums[middle] == target:\n",
    "            return middle\n",
    "        elif nums[middle] < target:\n",
    "            left = middle + 1\n",
    "        else:\n",
    "            right = middle - 1\n",
    "\n",
    "    return left\n",
    "    #calling\n",
    "nums = [1, 3, 5, 6]\n",
    "target = 5\n",
    "result = searchInsert(nums, target)\n",
    "print(result)"
   ]
  },
  {
   "cell_type": "code",
   "execution_count": 5,
   "id": "76753ab7-3666-4e77-9c59-e75139f61672",
   "metadata": {},
   "outputs": [
    {
     "name": "stdout",
     "output_type": "stream",
     "text": [
      "[1, 2, 4]\n"
     ]
    }
   ],
   "source": [
    "def plusOne(digits):\n",
    "    n = len(digits)\n",
    "    carry = 1\n",
    "\n",
    "    for i in range(n - 1, -1, -1):\n",
    "        digits[i] += carry\n",
    "        carry = digits[i] // 10\n",
    "        digits[i] %= 10\n",
    "\n",
    "        if carry == 0:\n",
    "            break\n",
    "\n",
    "    if carry > 0:\n",
    "        digits.insert(0, carry)\n",
    "\n",
    "    return digits\n",
    "    \n",
    "    #calling \n",
    "digits = [1, 2, 3]\n",
    "result = plusOne(digits)\n",
    "print(result)"
   ]
  },
  {
   "cell_type": "code",
   "execution_count": 6,
   "id": "ca266760-9eb7-4e06-bae5-918da5313cf4",
   "metadata": {},
   "outputs": [
    {
     "name": "stdout",
     "output_type": "stream",
     "text": [
      "1\n"
     ]
    }
   ],
   "source": [
    "def singleNumber(nums):\n",
    "    result = 0\n",
    "    for num in nums:\n",
    "        result ^= num\n",
    "    return result\n",
    "    \n",
    "    #calling\n",
    "nums = [2, 2, 1]\n",
    "result = singleNumber(nums)\n",
    "print(result)"
   ]
  },
  {
   "cell_type": "code",
   "execution_count": 10,
   "id": "79d16d92-7292-4604-a52a-ada708c10546",
   "metadata": {},
   "outputs": [
    {
     "name": "stdout",
     "output_type": "stream",
     "text": [
      "[[0, 1], [3, 4], [50, 51], [75, 76]]\n"
     ]
    }
   ],
   "source": [
    "def findMissingRanges(nums, lower, upper):\n",
    "    result = []\n",
    "    start = lower\n",
    "\n",
    "    for num in range(lower, upper + 1):\n",
    "        if num in nums:\n",
    "            continue\n",
    "        elif start == num:\n",
    "            start += 1\n",
    "        elif num - 1 != start:\n",
    "            result.append([start, num - 1])\n",
    "            start = num + 1\n",
    "\n",
    "    if start <= upper:\n",
    "        result.append([start, upper])\n",
    "\n",
    "    return result\n",
    "    #calling\n",
    "nums = [0, 1, 3, 50, 75]\n",
    "lower = 0\n",
    "upper = 99\n",
    "\n",
    "result = findMissingRanges(nums, lower, upper)\n",
    "print(result)"
   ]
  },
  {
   "cell_type": "code",
   "execution_count": 8,
   "id": "1b19a1f6-c562-4c7f-b3eb-37c395a93729",
   "metadata": {},
   "outputs": [
    {
     "name": "stdout",
     "output_type": "stream",
     "text": [
      "False\n"
     ]
    }
   ],
   "source": [
    "def canAttendMeetings(intervals):\n",
    "    intervals.sort(key=lambda x: x[0])  # Sort intervals based on start time\n",
    "\n",
    "    for i in range(1, len(intervals)):\n",
    "        if intervals[i][0] < intervals[i - 1][1]:\n",
    "            return False\n",
    "\n",
    "    return True\n",
    "    #callling fuc.\n",
    "intervals = [[0, 30], [5, 10], [15, 20]]\n",
    "result = canAttendMeetings(intervals)\n",
    "print(result)"
   ]
  }
 ],
 "metadata": {
  "kernelspec": {
   "display_name": "Python 3 (ipykernel)",
   "language": "python",
   "name": "python3"
  },
  "language_info": {
   "codemirror_mode": {
    "name": "ipython",
    "version": 3
   },
   "file_extension": ".py",
   "mimetype": "text/x-python",
   "name": "python",
   "nbconvert_exporter": "python",
   "pygments_lexer": "ipython3",
   "version": "3.10.8"
  }
 },
 "nbformat": 4,
 "nbformat_minor": 5
}
