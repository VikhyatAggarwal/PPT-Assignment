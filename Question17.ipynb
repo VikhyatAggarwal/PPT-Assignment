{
 "cells": [
  {
   "cell_type": "code",
   "execution_count": 11,
   "id": "746a960d-6d3e-4b19-8e9f-92ef9bf23ce6",
   "metadata": {},
   "outputs": [
    {
     "name": "stdout",
     "output_type": "stream",
     "text": [
      "[2, 4, 6, 8, 10]\n",
      "None\n"
     ]
    }
   ],
   "source": [
    "def even_numbers(list1):\n",
    "    even = [num for num in list1 if num % 2 == 0]\n",
    "    print(even)\n",
    "    \n",
    "list1 = [1,2,3,4,5,6,7,8,9,10]\n",
    "print(even_numbers(list1))"
   ]
  }
 ],
 "metadata": {
  "kernelspec": {
   "display_name": "Python 3 (ipykernel)",
   "language": "python",
   "name": "python3"
  },
  "language_info": {
   "codemirror_mode": {
    "name": "ipython",
    "version": 3
   },
   "file_extension": ".py",
   "mimetype": "text/x-python",
   "name": "python",
   "nbconvert_exporter": "python",
   "pygments_lexer": "ipython3",
   "version": "3.10.8"
  }
 },
 "nbformat": 4,
 "nbformat_minor": 5
}
