{
 "cells": [
  {
   "cell_type": "code",
   "execution_count": 2,
   "id": "7103e23b-d95e-4fe8-8b81-7a589dd0b588",
   "metadata": {},
   "outputs": [
    {
     "name": "stdout",
     "output_type": "stream",
     "text": [
      "True\n"
     ]
    }
   ],
   "source": [
    "def isIsomorphic(s, t):\n",
    "    if len(s) != len(t):\n",
    "        return False\n",
    "\n",
    "    s_map = {}\n",
    "    t_map = {}\n",
    "\n",
    "    for i in range(len(s)):\n",
    "        if s[i] not in s_map and t[i] not in t_map:\n",
    "            s_map[s[i]] = t[i]\n",
    "            t_map[t[i]] = s[i]\n",
    "        elif s[i] in s_map and t[i] in t_map:\n",
    "            if s_map[s[i]] != t[i] or t_map[t[i]] != s[i]:\n",
    "                return False\n",
    "        else:\n",
    "            return False\n",
    "\n",
    "    return True\n",
    "#calling\n",
    "s = \"egg\"\n",
    "t = \"add\"\n",
    "print(isIsomorphic(s, t))\n"
   ]
  },
  {
   "cell_type": "code",
   "execution_count": 4,
   "id": "6aeb3903-0478-4c9f-8e0b-10089e2d030d",
   "metadata": {},
   "outputs": [
    {
     "name": "stdout",
     "output_type": "stream",
     "text": [
      "True\n"
     ]
    }
   ],
   "source": [
    "def isStrobogrammatic(num):\n",
    "    mapping = {'0': '0', '1': '1', '6': '9', '8': '8', '9': '6'}\n",
    "    left = 0\n",
    "    right = len(num) - 1\n",
    "    \n",
    "    while left <= right:\n",
    "        if num[left] not in mapping or mapping[num[left]] != num[right]:\n",
    "            return False\n",
    "        left += 1\n",
    "        right -= 1\n",
    "    \n",
    "    return True\n",
    "#calling\n",
    "num = \"69\"\n",
    "print(isStrobogrammatic(num))\n"
   ]
  },
  {
   "cell_type": "code",
   "execution_count": 6,
   "id": "a7418171-7f99-4abb-9527-c1e0af3911a3",
   "metadata": {},
   "outputs": [
    {
     "name": "stdout",
     "output_type": "stream",
     "text": [
      "134\n"
     ]
    }
   ],
   "source": [
    "def addStrings(num1, num2):\n",
    "    i = len(num1) - 1\n",
    "    j = len(num2) - 1\n",
    "    carry = 0\n",
    "    result = \"\"\n",
    "    \n",
    "    while i >= 0 or j >= 0:\n",
    "        if i >= 0:\n",
    "            carry += int(num1[i])\n",
    "        if j >= 0:\n",
    "            carry += int(num2[j])\n",
    "        result = str(carry % 10) + result\n",
    "        carry //= 10\n",
    "        i -= 1\n",
    "        j -= 1\n",
    "    \n",
    "    if carry > 0:\n",
    "        result = str(carry) + result\n",
    "    \n",
    "    return result\n",
    "#calling\n",
    "num1 = \"11\"\n",
    "num2 = \"123\"\n",
    "print(addStrings(num1, num2))\n"
   ]
  },
  {
   "cell_type": "code",
   "execution_count": 8,
   "id": "b45f1cdd-acc9-4d5a-8982-88ddb646c423",
   "metadata": {},
   "outputs": [
    {
     "name": "stdout",
     "output_type": "stream",
     "text": [
      "s'teL ekat edoCteeL tsetnoc\n"
     ]
    }
   ],
   "source": [
    "def reverseWords(s):\n",
    "    words = s.split()\n",
    "    reversed_words = [word[::-1] for word in words]\n",
    "    reversed_sentence = ' '.join(reversed_words)\n",
    "    return reversed_sentence\n",
    "\n",
    "#calling\n",
    "s = \"Let's take LeetCode contest\"\n",
    "print(reverseWords(s))\n"
   ]
  },
  {
   "cell_type": "code",
   "execution_count": 10,
   "id": "551a0c8a-7273-4295-beba-b03f562180fa",
   "metadata": {},
   "outputs": [
    {
     "name": "stdout",
     "output_type": "stream",
     "text": [
      "bacdfeg\n"
     ]
    }
   ],
   "source": [
    "def reverseStr(s, k):\n",
    "    chars = list(s)\n",
    "    for i in range(0, len(chars), 2 * k):\n",
    "        chars[i:i + k] = chars[i:i + k][::-1]\n",
    "    return ''.join(chars)\n",
    "\n",
    "#calling\n",
    "s = \"abcdefg\"\n",
    "k = 2\n",
    "print(reverseStr(s, k))\n"
   ]
  },
  {
   "cell_type": "code",
   "execution_count": 12,
   "id": "19e75101-9405-4f3f-bfef-1da99a5fbe65",
   "metadata": {},
   "outputs": [
    {
     "name": "stdout",
     "output_type": "stream",
     "text": [
      "True\n"
     ]
    }
   ],
   "source": [
    "def rotateString(s, goal):\n",
    "    if len(s) != len(goal):\n",
    "        return False\n",
    "    s2 = s + s\n",
    "    return goal in s2\n",
    "#calling\n",
    "s = \"abcde\"\n",
    "goal = \"cdeab\"\n",
    "print(rotateString(s, goal))\n"
   ]
  },
  {
   "cell_type": "code",
   "execution_count": 14,
   "id": "2ed345c7-6029-4fa8-b4e7-e287b8431ac6",
   "metadata": {},
   "outputs": [
    {
     "name": "stdout",
     "output_type": "stream",
     "text": [
      "True\n"
     ]
    }
   ],
   "source": [
    "def backspaceCompare(s, t):\n",
    "    def processString(s):\n",
    "        stack = []\n",
    "        for char in s:\n",
    "            if char == '#':\n",
    "                if stack:\n",
    "                    stack.pop()\n",
    "            else:\n",
    "                stack.append(char)\n",
    "        return ''.join(stack)\n",
    "\n",
    "    processedS = processString(s)\n",
    "    processedT = processString(t)\n",
    "    return processedS == processedT\n",
    "#calling\n",
    "s = \"ab#c\"\n",
    "t = \"ad#c\"\n",
    "print(backspaceCompare(s, t))\n"
   ]
  },
  {
   "cell_type": "code",
   "execution_count": 16,
   "id": "87352d94-1cb3-4d44-a6d0-9d31c7b3f81a",
   "metadata": {},
   "outputs": [
    {
     "name": "stdout",
     "output_type": "stream",
     "text": [
      "True\n"
     ]
    }
   ],
   "source": [
    "def checkStraightLine(coordinates):\n",
    "    x0, y0 = coordinates[0]\n",
    "    x1, y1 = coordinates[1]\n",
    "    \n",
    "    # Calculate the initial slope\n",
    "    initial_slope = (y1 - y0) / (x1 - x0) if x1 != x0 else float('inf')\n",
    "    \n",
    "    for i in range(2, len(coordinates)):\n",
    "        xi, yi = coordinates[i]\n",
    "        # Calculate the slope between current point and first point\n",
    "        slope = (yi - y0) / (xi - x0) if xi != x0 else float('inf')\n",
    "        \n",
    "        # Check if slopes are not equal\n",
    "        if slope != initial_slope:\n",
    "            return False\n",
    "    \n",
    "    return True\n",
    "#calling\n",
    "coordinates = [[1,2],[2,3],[3,4],[4,5],[5,6],[6,7]]\n",
    "print(checkStraightLine(coordinates))\n"
   ]
  }
 ],
 "metadata": {
  "kernelspec": {
   "display_name": "Python 3 (ipykernel)",
   "language": "python",
   "name": "python3"
  },
  "language_info": {
   "codemirror_mode": {
    "name": "ipython",
    "version": 3
   },
   "file_extension": ".py",
   "mimetype": "text/x-python",
   "name": "python",
   "nbconvert_exporter": "python",
   "pygments_lexer": "ipython3",
   "version": "3.10.8"
  }
 },
 "nbformat": 4,
 "nbformat_minor": 5
}
