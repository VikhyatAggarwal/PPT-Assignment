{
 "cells": [
  {
   "cell_type": "code",
   "execution_count": 10,
   "id": "de6b0cfe-a87d-4a09-b695-f9cc04123101",
   "metadata": {},
   "outputs": [
    {
     "name": "stdout",
     "output_type": "stream",
     "text": [
      "[1, 3, 12, 0, 0]\n",
      "[0]\n"
     ]
    }
   ],
   "source": [
    "def moveZeroes(nums):\n",
    "    n = len(nums)\n",
    "    j = 0  # Pointer for the next non-zero element\n",
    "\n",
    "    # Move non-zero elements to the front\n",
    "    for i in range(n):\n",
    "        if nums[i] != 0:\n",
    "            nums[j], nums[i] = nums[i], nums[j]\n",
    "            j += 1\n",
    "\n",
    "    # Set remaining elements to zero\n",
    "    for i in range(j, n):\n",
    "        nums[i] = 0\n",
    "\n",
    "    return nums\n",
    "    #calling fun.\n",
    "nums1 = [0, 1, 0, 3, 12]\n",
    "print(moveZeroes(nums1))\n",
    "\n",
    "nums2 = [0]\n",
    "print(moveZeroes(nums2))"
   ]
  }
 ],
 "metadata": {
  "kernelspec": {
   "display_name": "Python 3 (ipykernel)",
   "language": "python",
   "name": "python3"
  },
  "language_info": {
   "codemirror_mode": {
    "name": "ipython",
    "version": 3
   },
   "file_extension": ".py",
   "mimetype": "text/x-python",
   "name": "python",
   "nbconvert_exporter": "python",
   "pygments_lexer": "ipython3",
   "version": "3.10.8"
  }
 },
 "nbformat": 4,
 "nbformat_minor": 5
}
